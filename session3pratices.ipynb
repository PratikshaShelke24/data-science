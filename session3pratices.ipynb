{
  "nbformat": 4,
  "nbformat_minor": 0,
  "metadata": {
    "colab": {
      "provenance": [],
      "authorship_tag": "ABX9TyO8Ixshwwzq0iYFSma/3LbF",
      "include_colab_link": true
    },
    "kernelspec": {
      "name": "python3",
      "display_name": "Python 3"
    },
    "language_info": {
      "name": "python"
    }
  },
  "cells": [
    {
      "cell_type": "markdown",
      "metadata": {
        "id": "view-in-github",
        "colab_type": "text"
      },
      "source": [
        "<a href=\"https://colab.research.google.com/github/PratikshaShelke24/data-science/blob/main/session3pratices.ipynb\" target=\"_parent\"><img src=\"https://colab.research.google.com/assets/colab-badge.svg\" alt=\"Open In Colab\"/></a>"
      ]
    },
    {
      "cell_type": "code",
      "execution_count": null,
      "metadata": {
        "id": "JBe34-nlJ8ef"
      },
      "outputs": [],
      "source": [
        "#arithimetic opreation in numpy"
      ]
    },
    {
      "cell_type": "code",
      "source": [
        "#element wise\n",
        "import numpy as np\n",
        "arr1=np.array([1,2,3])\n",
        "arr2=np.array([4,5,6])\n",
        "sum=arr1+arr2\n",
        "print(sum)"
      ],
      "metadata": {
        "colab": {
          "base_uri": "https://localhost:8080/"
        },
        "id": "38dspUsPJ9GC",
        "outputId": "d60f6335-0224-4298-e9fc-0a05b91e5ff5"
      },
      "execution_count": 2,
      "outputs": [
        {
          "output_type": "stream",
          "name": "stdout",
          "text": [
            "[5 7 9]\n"
          ]
        }
      ]
    },
    {
      "cell_type": "code",
      "source": [
        "#mathmatical functions\n",
        "\n",
        "#sum\n",
        "arr3=np.array([1,2,3,4])\n",
        "total=np.sum(arr3)\n",
        "print(total)\n",
        "\n",
        "#mean\n",
        "mean=np.mean(arr3)\n",
        "print(mean)\n",
        "\n",
        "#squre root\n",
        "sqrt_arr=np.sqrt(9)\n",
        "print(sqrt_arr)\n",
        "\n"
      ],
      "metadata": {
        "colab": {
          "base_uri": "https://localhost:8080/"
        },
        "id": "kQtLukfxJ9K1",
        "outputId": "9698d043-f262-4142-bc81-209bbc9549df"
      },
      "execution_count": 12,
      "outputs": [
        {
          "output_type": "stream",
          "name": "stdout",
          "text": [
            "10\n",
            "2.5\n",
            "3.0\n",
            "3.0\n"
          ]
        }
      ]
    },
    {
      "cell_type": "code",
      "source": [
        "arr4=np.array([9,4,64,81,49]) #pass array\n",
        "sqrt_arr1=np.sqrt(arr4)\n",
        "print(sqrt_arr1)"
      ],
      "metadata": {
        "colab": {
          "base_uri": "https://localhost:8080/"
        },
        "id": "a8cN1UKXJ9OJ",
        "outputId": "71d52d03-4985-4725-e777-a437a2baa627"
      },
      "execution_count": 14,
      "outputs": [
        {
          "output_type": "stream",
          "name": "stdout",
          "text": [
            "[3. 2. 8. 9. 7.]\n"
          ]
        }
      ]
    },
    {
      "cell_type": "code",
      "source": [
        "#Linear Algebra\n"
      ],
      "metadata": {
        "id": "xp6yEDs6J9Qu"
      },
      "execution_count": null,
      "outputs": []
    },
    {
      "cell_type": "code",
      "source": [
        "#\tMatrix multiplication\n",
        "mat1=np.array([[1,2],[3,4]])\n",
        "mat2=np.array([[6,7],[8,9]])\n",
        "product=np.dot(mat1,mat2)\n",
        "print(product)"
      ],
      "metadata": {
        "colab": {
          "base_uri": "https://localhost:8080/"
        },
        "id": "dNNxfsjyJ9TX",
        "outputId": "a23ac8ee-459e-4573-9394-191233287050"
      },
      "execution_count": 18,
      "outputs": [
        {
          "output_type": "stream",
          "name": "stdout",
          "text": [
            "[[22 25]\n",
            " [50 57]]\n"
          ]
        }
      ]
    },
    {
      "cell_type": "code",
      "source": [
        "#inverise of matrix\n",
        "inv_matrix = np.linalg.inv(mat1)\n",
        "print(inv_matrix)\n"
      ],
      "metadata": {
        "colab": {
          "base_uri": "https://localhost:8080/"
        },
        "id": "xE96wQlCJ9V9",
        "outputId": "abc9f193-12f2-4a7f-bc43-e5d7ce4ccaf6"
      },
      "execution_count": 19,
      "outputs": [
        {
          "output_type": "stream",
          "name": "stdout",
          "text": [
            "[[-2.   1. ]\n",
            " [ 1.5 -0.5]]\n"
          ]
        }
      ]
    },
    {
      "cell_type": "code",
      "source": [
        "#Determinant of a matrix:\n",
        "\n",
        "determinant = np.linalg.det(mat1)\n",
        "print(determinant)\n"
      ],
      "metadata": {
        "colab": {
          "base_uri": "https://localhost:8080/"
        },
        "id": "1-X8e_DvQ9X_",
        "outputId": "12f444ae-9700-4539-b458-00fbad579ee1"
      },
      "execution_count": 20,
      "outputs": [
        {
          "output_type": "stream",
          "name": "stdout",
          "text": [
            "-2.0000000000000004\n"
          ]
        }
      ]
    },
    {
      "cell_type": "code",
      "source": [
        "#numpy for data science task\n",
        "\n"
      ],
      "metadata": {
        "id": "GSW79twTQ9bc"
      },
      "execution_count": null,
      "outputs": []
    },
    {
      "cell_type": "code",
      "source": [
        "#Handling Missing Values:\n",
        "arr = np.array([1, 2, 5,7, 4])\n",
        "print(np.isnan(arr))\n"
      ],
      "metadata": {
        "colab": {
          "base_uri": "https://localhost:8080/"
        },
        "id": "ZZLoqwLFQ9ey",
        "outputId": "6be4b940-4987-46cc-c57a-4003878c7db3"
      },
      "execution_count": 29,
      "outputs": [
        {
          "output_type": "stream",
          "name": "stdout",
          "text": [
            "[False False False False False]\n"
          ]
        }
      ]
    },
    {
      "cell_type": "code",
      "source": [
        "#reshape\n",
        "arr_reshaped = arr.reshape(2, 2)  # Reshape a 1D array to 2D\n",
        "print(arr_reshaped)\n"
      ],
      "metadata": {
        "colab": {
          "base_uri": "https://localhost:8080/"
        },
        "id": "bO1SGhiKUx2h",
        "outputId": "5e4272e3-890e-4596-bd80-1bffabde5620"
      },
      "execution_count": 26,
      "outputs": [
        {
          "output_type": "stream",
          "name": "stdout",
          "text": [
            "[[1 2]\n",
            " [5 4]]\n"
          ]
        }
      ]
    },
    {
      "cell_type": "code",
      "source": [
        "#Statistical Analysis"
      ],
      "metadata": {
        "id": "SVn9nF_aUx54"
      },
      "execution_count": null,
      "outputs": []
    },
    {
      "cell_type": "code",
      "source": [
        "#Variance\n",
        "variance = np.var(arr)\n",
        "print(variance)\n"
      ],
      "metadata": {
        "colab": {
          "base_uri": "https://localhost:8080/"
        },
        "id": "I0CnjCkyUx8g",
        "outputId": "12922fe9-9359-469c-c9cc-bc0149310023"
      },
      "execution_count": 30,
      "outputs": [
        {
          "output_type": "stream",
          "name": "stdout",
          "text": [
            "4.5600000000000005\n"
          ]
        }
      ]
    },
    {
      "cell_type": "code",
      "source": [
        "#Standard Deviation\n",
        "std_dev = np.std(arr)\n",
        "print(std_dev)\n"
      ],
      "metadata": {
        "colab": {
          "base_uri": "https://localhost:8080/"
        },
        "id": "k85EJgjtUx_q",
        "outputId": "c266c745-0380-45b7-ae81-f8622334cbbe"
      },
      "execution_count": 31,
      "outputs": [
        {
          "output_type": "stream",
          "name": "stdout",
          "text": [
            "2.1354156504062622\n"
          ]
        }
      ]
    }
  ]
}