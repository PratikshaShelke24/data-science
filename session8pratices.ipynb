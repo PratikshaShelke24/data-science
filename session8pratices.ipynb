{
  "nbformat": 4,
  "nbformat_minor": 0,
  "metadata": {
    "colab": {
      "provenance": [],
      "authorship_tag": "ABX9TyNw06Q0kyUD2V5OlFkVB9LX",
      "include_colab_link": true
    },
    "kernelspec": {
      "name": "python3",
      "display_name": "Python 3"
    },
    "language_info": {
      "name": "python"
    }
  },
  "cells": [
    {
      "cell_type": "markdown",
      "metadata": {
        "id": "view-in-github",
        "colab_type": "text"
      },
      "source": [
        "<a href=\"https://colab.research.google.com/github/PratikshaShelke24/data-science/blob/main/session8pratices.ipynb\" target=\"_parent\"><img src=\"https://colab.research.google.com/assets/colab-badge.svg\" alt=\"Open In Colab\"/></a>"
      ]
    },
    {
      "cell_type": "code",
      "source": [
        "#session 8  ||confidence interval case study"
      ],
      "metadata": {
        "id": "9TWR9XNF9Uxn"
      },
      "execution_count": null,
      "outputs": []
    },
    {
      "cell_type": "code",
      "execution_count": 1,
      "metadata": {
        "id": "b0vUj4Ny8j3g"
      },
      "outputs": [],
      "source": [
        "import numpy as np\n",
        "import scipy.stats as st"
      ]
    },
    {
      "cell_type": "code",
      "source": [
        "gfg_data = [1, 1, 1, 2, 2, 2, 3, 3, 3, 3,3, 4, 4, 5, 5, 5, 6, 7, 8, 10]"
      ],
      "metadata": {
        "id": "eRfie8qb8kjR"
      },
      "execution_count": 2,
      "outputs": []
    },
    {
      "cell_type": "code",
      "source": [
        "st.t.interval(confidence=0.80,df=len(gfg_data)-1,loc=np.mean(gfg_data),scale=st.sem(gfg_data))"
      ],
      "metadata": {
        "colab": {
          "base_uri": "https://localhost:8080/"
        },
        "id": "6idYw4jp8kn-",
        "outputId": "9241eb08-0bee-4924-9350-9082c5a07e56"
      },
      "execution_count": 9,
      "outputs": [
        {
          "output_type": "execute_result",
          "data": {
            "text/plain": [
              "(3.1798245944112167, 4.620175405588783)"
            ]
          },
          "metadata": {},
          "execution_count": 9
        }
      ]
    },
    {
      "cell_type": "code",
      "source": [
        "#example\n",
        "import numpy as np\n",
        "import scipy.stats as st"
      ],
      "metadata": {
        "id": "4fdH4a958krp"
      },
      "execution_count": 17,
      "outputs": []
    },
    {
      "cell_type": "code",
      "source": [
        "data = [150, 160, 170, 175, 168, 155, 162, 158, 163, 165,\n",
        "        171, 172, 169, 161, 164, 176, 167, 160, 159, 157,\n",
        "        174, 173, 162, 166, 168, 170, 163, 175, 164, 160]\n"
      ],
      "metadata": {
        "id": "PfaOF6bs8kvH"
      },
      "execution_count": 18,
      "outputs": []
    },
    {
      "cell_type": "code",
      "source": [
        "mean = np.mean(data)"
      ],
      "metadata": {
        "id": "OVmPRDdTBor7"
      },
      "execution_count": 19,
      "outputs": []
    },
    {
      "cell_type": "code",
      "source": [
        "std_dev = np.std(data, ddof=1)"
      ],
      "metadata": {
        "id": "XuxHNvHDBovG"
      },
      "execution_count": 20,
      "outputs": []
    },
    {
      "cell_type": "code",
      "source": [
        "n = len(data)"
      ],
      "metadata": {
        "id": "WhM-LtaIBoyO"
      },
      "execution_count": 21,
      "outputs": []
    },
    {
      "cell_type": "code",
      "source": [
        "sem = std_dev / np.sqrt(n)"
      ],
      "metadata": {
        "id": "XUHXDEP1Bo1g"
      },
      "execution_count": 22,
      "outputs": []
    },
    {
      "cell_type": "code",
      "source": [
        "confidence_level = 0.95\n",
        "t_value = st.t.ppf((1 + confidence_level) / 2, df=n-1)\n"
      ],
      "metadata": {
        "id": "Ifi0KUp1Bo4W"
      },
      "execution_count": 24,
      "outputs": []
    },
    {
      "cell_type": "code",
      "source": [
        "margin_of_error = t_value * sem"
      ],
      "metadata": {
        "id": "a54P1GVzBo7S"
      },
      "execution_count": 25,
      "outputs": []
    },
    {
      "cell_type": "code",
      "source": [
        "confidence_interval = (mean - margin_of_error, mean + margin_of_error)"
      ],
      "metadata": {
        "id": "YN843hU_Bo-L"
      },
      "execution_count": 26,
      "outputs": []
    },
    {
      "cell_type": "code",
      "source": [
        "print(f\"Sample Mean: {mean}\")\n",
        "print(f\"Standard Deviation: {std_dev}\")\n",
        "print(f\"Standard Error of the Mean: {sem}\")\n",
        "print(f\"Margin of Error: {margin_of_error}\")\n",
        "print(f\"{confidence_level*100}% Confidence Interval,{confidence_interval}\")\n"
      ],
      "metadata": {
        "colab": {
          "base_uri": "https://localhost:8080/"
        },
        "id": "VmIGN-mtCp0b",
        "outputId": "f36dc009-b9af-40d9-cab0-133b622d820d"
      },
      "execution_count": 32,
      "outputs": [
        {
          "output_type": "stream",
          "name": "stdout",
          "text": [
            "Sample Mean: 165.23333333333332\n",
            "Standard Deviation: 6.516204381404092\n",
            "Standard Error of the Mean: 1.1896907096696727\n",
            "Margin of Error: 2.4331907043863064\n",
            "95.0% Confidence Interval,(162.80014262894701, 167.66652403771963)\n"
          ]
        }
      ]
    },
    {
      "cell_type": "code",
      "source": [],
      "metadata": {
        "id": "nsK3Iq1mCp30"
      },
      "execution_count": null,
      "outputs": []
    },
    {
      "cell_type": "code",
      "source": [],
      "metadata": {
        "id": "Vyeu-M3qCp7f"
      },
      "execution_count": null,
      "outputs": []
    },
    {
      "cell_type": "code",
      "source": [],
      "metadata": {
        "id": "Tk1dXc-oCp_G"
      },
      "execution_count": null,
      "outputs": []
    },
    {
      "cell_type": "code",
      "source": [],
      "metadata": {
        "id": "eWP7IiNLCqCv"
      },
      "execution_count": null,
      "outputs": []
    }
  ]
}